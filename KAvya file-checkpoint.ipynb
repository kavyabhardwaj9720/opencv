{
 "cells": [
  {
   "cell_type": "code",
   "execution_count": 7,
   "metadata": {},
   "outputs": [],
   "source": [
    "##Ans3\n",
    "import cv2\n",
    " \n",
    "originalImage = cv2.imread('C:/Users/pc/Downloads/camry_story_647_060115034910.jpg')\n",
    "grayImage = cv2.cvtColor(originalImage, cv2.COLOR_BGR2GRAY)\n",
    " \n",
    "(thresh, blackAndWhiteImage) = cv2.threshold(grayImage, 127, 255, cv2.THRESH_BINARY)\n",
    "\n",
    "cv2.imshow('Black white image', blackAndWhiteImage)\n",
    "cv2.imshow('Original image',originalImage)\n",
    "cv2.imshow('Gray image', grayImage)\n",
    " \n",
    "cv2.waitKey(0)\n",
    "cv2.destroyAllWindows()"
   ]
  },
  {
   "cell_type": "code",
   "execution_count": 3,
   "metadata": {},
   "outputs": [
    {
     "data": {
      "text/plain": [
       "-1"
      ]
     },
     "execution_count": 3,
     "metadata": {},
     "output_type": "execute_result"
    }
   ],
   "source": [
    "##ans4\n",
    "import cv2\n",
    "\n",
    "face_cascade = cv2.CascadeClassifier('C:/Users/pc/Downloads/haarcascade_frontalface_default.xml')\n",
    "# Read the image\n",
    "img = cv2.imread('C:/Users/pc/Downloads/camry_story_647_060115034910.jpg')\n",
    "gray = cv2.cvtColor(img, cv2.COLOR_BGR2GRAY)\n",
    "\n",
    "# Detect faces in the image\n",
    "faces = face_cascade.detectMultiScale(gray, 1.5, 3)\n",
    "for (x,y,w,h) in faces:\n",
    "    cv2.rectangle(img,(x,y), (x+w,y+h),(255,0,0),3)\n",
    "    \n",
    "cv2.imshow('img', img)\n",
    "cv2.waitKey(0)"
   ]
  },
  {
   "cell_type": "code",
   "execution_count": 6,
   "metadata": {},
   "outputs": [],
   "source": [
    "#ANSWER 5\n",
    "import cv2\n",
    "img = cv2.imread('C:/Users/pc/Downloads/camry_story_647_060115034910.jpg')\n",
    "cv2.imshow('original img',img)\n",
    "negative = cv2.bitwise_not(img)\n",
    "cv2.imshow('negative img',negative)\n",
    "cv2.waitKey(0)\n",
    "cv2.destroyAllWindows()"
   ]
  },
  {
   "cell_type": "code",
   "execution_count": null,
   "metadata": {},
   "outputs": [],
   "source": []
  },
  {
   "cell_type": "code",
   "execution_count": null,
   "metadata": {},
   "outputs": [],
   "source": []
  }
 ],
 "metadata": {
  "kernelspec": {
   "display_name": "Python 3",
   "language": "python",
   "name": "python3"
  },
  "language_info": {
   "codemirror_mode": {
    "name": "ipython",
    "version": 3
   },
   "file_extension": ".py",
   "mimetype": "text/x-python",
   "name": "python",
   "nbconvert_exporter": "python",
   "pygments_lexer": "ipython3",
   "version": "3.7.4"
  }
 },
 "nbformat": 4,
 "nbformat_minor": 2
}
